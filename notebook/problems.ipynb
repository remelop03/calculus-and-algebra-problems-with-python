{
 "cells": [
  {
   "cell_type": "markdown",
   "id": "5dbe7b9e",
   "metadata": {},
   "source": [
    "# Calculus and Algebra problems"
   ]
  },
  {
   "cell_type": "markdown",
   "id": "519c4b12",
   "metadata": {},
   "source": [
    "## Calculus\n",
    "\n",
    "Calculus is not obscure. It is the language for modeling behaviors. Calculus enables us to find the rate of changes in order to optimize a function. Without calculus, we would not be able to fully understand techniques such as:\n",
    "\n",
    "Backpropagation in neural networks\n",
    "\n",
    "Regression using optimal least square\n",
    "\n",
    "Expectation maximization in fitting probability models"
   ]
  },
  {
   "cell_type": "markdown",
   "id": "b7e2e87a",
   "metadata": {},
   "source": [
    "### Exercise 1\n",
    "\n",
    "Let's say, in my office, it takes me 10 seconds (time) to travel 25 meters (distance) to the coffee machine.\n",
    "If we want to express the above situation as a function, then it would be:\n",
    "\n",
    "distance = speed * time\n",
    "\n",
    "So for this case, speed is the first derivative of the distance function above. As speed describes the rate of change of distance over time, when people say taking the first derivative of a certain function, they mean finding out the rate of change of a function.\n",
    "\n",
    "**Find the speed and build the linear function on distance $(d)$ over time $(t)$, when $(t ∈ [0,10])$.**"
   ]
  },
  {
   "cell_type": "code",
   "execution_count": null,
   "id": "bb3e954e",
   "metadata": {},
   "outputs": [
    {
     "name": "stdout",
     "output_type": "stream",
     "text": [
      "[ 0.          0.20408163  0.40816327  0.6122449   0.81632653  1.02040816\n",
      "  1.2244898   1.42857143  1.63265306  1.83673469  2.04081633  2.24489796\n",
      "  2.44897959  2.65306122  2.85714286  3.06122449  3.26530612  3.46938776\n",
      "  3.67346939  3.87755102  4.08163265  4.28571429  4.48979592  4.69387755\n",
      "  4.89795918  5.10204082  5.30612245  5.51020408  5.71428571  5.91836735\n",
      "  6.12244898  6.32653061  6.53061224  6.73469388  6.93877551  7.14285714\n",
      "  7.34693878  7.55102041  7.75510204  7.95918367  8.16326531  8.36734694\n",
      "  8.57142857  8.7755102   8.97959184  9.18367347  9.3877551   9.59183673\n",
      "  9.79591837 10.        ] 50\n"
     ]
    }
   ],
   "source": [
    "# import libraries\n",
    "\n",
    "import matplotlib.pyplot as plt\n",
    "import numpy as np\n",
    "import pandas as pd\n",
    "\n",
    "# Define variables and constans\n",
    "x_1=25\n",
    "t_1=10\n",
    "v=x_1/t_1\n",
    "t = np.linspace(0,10)\n",
    "#print(t,len(t))\n",
    "\n",
    "# Define the distance function\n",
    "\n",
    "def x(t): return v*t\n"
   ]
  },
  {
   "cell_type": "code",
   "execution_count": 19,
   "id": "dbc4c780",
   "metadata": {},
   "outputs": [
    {
     "data": {
      "text/plain": [
       "[<matplotlib.lines.Line2D at 0x7ca39ceeef50>]"
      ]
     },
     "execution_count": 19,
     "metadata": {},
     "output_type": "execute_result"
    },
    {
     "data": {
      "image/png": "[encoded data removed]",
      "text/plain": [
       "<Figure size 640x480 with 1 Axes>"
      ]
     },
     "metadata": {},
     "output_type": "display_data"
    }
   ],
   "source": [
    "# Plot the distance function on domain (t)\n",
    "\n",
    "plt.plot(t,x(t))"
   ]
  },
  {
   "cell_type": "code",
   "execution_count": 20,
   "id": "4c4d4f20",
   "metadata": {},
   "outputs": [
    {
     "data": {
      "text/html": [
       "<div>\n",
       "<style scoped>\n",
       "    .dataframe tbody tr th:only-of-type {\n",
       "        vertical-align: middle;\n",
       "    }\n",
       "\n",
       "    .dataframe tbody tr th {\n",
       "        vertical-align: top;\n",
       "    }\n",
       "\n",
       "    .dataframe thead th {\n",
       "        text-align: right;\n",
       "    }\n",
       "</style>\n",
       "<table border=\"1\" class=\"dataframe\">\n",
       "  <thead>\n",
       "    <tr style=\"text-align: right;\">\n",
       "      <th></th>\n",
       "      <th>t</th>\n",
       "      <th>x(t)</th>\n",
       "    </tr>\n",
       "  </thead>\n",
       "  <tbody>\n",
       "    <tr>\n",
       "      <th>0</th>\n",
       "      <td>0.000000</td>\n",
       "      <td>0.000000</td>\n",
       "    </tr>\n",
       "    <tr>\n",
       "      <th>1</th>\n",
       "      <td>0.204082</td>\n",
       "      <td>0.510204</td>\n",
       "    </tr>\n",
       "    <tr>\n",
       "      <th>2</th>\n",
       "      <td>0.408163</td>\n",
       "      <td>1.020408</td>\n",
       "    </tr>\n",
       "    <tr>\n",
       "      <th>3</th>\n",
       "      <td>0.612245</td>\n",
       "      <td>1.530612</td>\n",
       "    </tr>\n",
       "    <tr>\n",
       "      <th>4</th>\n",
       "      <td>0.816327</td>\n",
       "      <td>2.040816</td>\n",
       "    </tr>\n",
       "    <tr>\n",
       "      <th>5</th>\n",
       "      <td>1.020408</td>\n",
       "      <td>2.551020</td>\n",
       "    </tr>\n",
       "    <tr>\n",
       "      <th>6</th>\n",
       "      <td>1.224490</td>\n",
       "      <td>3.061224</td>\n",
       "    </tr>\n",
       "    <tr>\n",
       "      <th>7</th>\n",
       "      <td>1.428571</td>\n",
       "      <td>3.571429</td>\n",
       "    </tr>\n",
       "    <tr>\n",
       "      <th>8</th>\n",
       "      <td>1.632653</td>\n",
       "      <td>4.081633</td>\n",
       "    </tr>\n",
       "    <tr>\n",
       "      <th>9</th>\n",
       "      <td>1.836735</td>\n",
       "      <td>4.591837</td>\n",
       "    </tr>\n",
       "    <tr>\n",
       "      <th>10</th>\n",
       "      <td>2.040816</td>\n",
       "      <td>5.102041</td>\n",
       "    </tr>\n",
       "    <tr>\n",
       "      <th>11</th>\n",
       "      <td>2.244898</td>\n",
       "      <td>5.612245</td>\n",
       "    </tr>\n",
       "    <tr>\n",
       "      <th>12</th>\n",
       "      <td>2.448980</td>\n",
       "      <td>6.122449</td>\n",
       "    </tr>\n",
       "    <tr>\n",
       "      <th>13</th>\n",
       "      <td>2.653061</td>\n",
       "      <td>6.632653</td>\n",
       "    </tr>\n",
       "    <tr>\n",
       "      <th>14</th>\n",
       "      <td>2.857143</td>\n",
       "      <td>7.142857</td>\n",
       "    </tr>\n",
       "    <tr>\n",
       "      <th>15</th>\n",
       "      <td>3.061224</td>\n",
       "      <td>7.653061</td>\n",
       "    </tr>\n",
       "    <tr>\n",
       "      <th>16</th>\n",
       "      <td>3.265306</td>\n",
       "      <td>8.163265</td>\n",
       "    </tr>\n",
       "    <tr>\n",
       "      <th>17</th>\n",
       "      <td>3.469388</td>\n",
       "      <td>8.673469</td>\n",
       "    </tr>\n",
       "    <tr>\n",
       "      <th>18</th>\n",
       "      <td>3.673469</td>\n",
       "      <td>9.183673</td>\n",
       "    </tr>\n",
       "    <tr>\n",
       "      <th>19</th>\n",
       "      <td>3.877551</td>\n",
       "      <td>9.693878</td>\n",
       "    </tr>\n",
       "    <tr>\n",
       "      <th>20</th>\n",
       "      <td>4.081633</td>\n",
       "      <td>10.204082</td>\n",
       "    </tr>\n",
       "    <tr>\n",
       "      <th>21</th>\n",
       "      <td>4.285714</td>\n",
       "      <td>10.714286</td>\n",
       "    </tr>\n",
       "    <tr>\n",
       "      <th>22</th>\n",
       "      <td>4.489796</td>\n",
       "      <td>11.224490</td>\n",
       "    </tr>\n",
       "    <tr>\n",
       "      <th>23</th>\n",
       "      <td>4.693878</td>\n",
       "      <td>11.734694</td>\n",
       "    </tr>\n",
       "    <tr>\n",
       "      <th>24</th>\n",
       "      <td>4.897959</td>\n",
       "      <td>12.244898</td>\n",
       "    </tr>\n",
       "    <tr>\n",
       "      <th>25</th>\n",
       "      <td>5.102041</td>\n",
       "      <td>12.755102</td>\n",
       "    </tr>\n",
       "    <tr>\n",
       "      <th>26</th>\n",
       "      <td>5.306122</td>\n",
       "      <td>13.265306</td>\n",
       "    </tr>\n",
       "    <tr>\n",
       "      <th>27</th>\n",
       "      <td>5.510204</td>\n",
       "      <td>13.775510</td>\n",
       "    </tr>\n",
       "    <tr>\n",
       "      <th>28</th>\n",
       "      <td>5.714286</td>\n",
       "      <td>14.285714</td>\n",
       "    </tr>\n",
       "    <tr>\n",
       "      <th>29</th>\n",
       "      <td>5.918367</td>\n",
       "      <td>14.795918</td>\n",
       "    </tr>\n",
       "    <tr>\n",
       "      <th>30</th>\n",
       "      <td>6.122449</td>\n",
       "      <td>15.306122</td>\n",
       "    </tr>\n",
       "    <tr>\n",
       "      <th>31</th>\n",
       "      <td>6.326531</td>\n",
       "      <td>15.816327</td>\n",
       "    </tr>\n",
       "    <tr>\n",
       "      <th>32</th>\n",
       "      <td>6.530612</td>\n",
       "      <td>16.326531</td>\n",
       "    </tr>\n",
       "    <tr>\n",
       "      <th>33</th>\n",
       "      <td>6.734694</td>\n",
       "      <td>16.836735</td>\n",
       "    </tr>\n",
       "    <tr>\n",
       "      <th>34</th>\n",
       "      <td>6.938776</td>\n",
       "      <td>17.346939</td>\n",
       "    </tr>\n",
       "    <tr>\n",
       "      <th>35</th>\n",
       "      <td>7.142857</td>\n",
       "      <td>17.857143</td>\n",
       "    </tr>\n",
       "    <tr>\n",
       "      <th>36</th>\n",
       "      <td>7.346939</td>\n",
       "      <td>18.367347</td>\n",
       "    </tr>\n",
       "    <tr>\n",
       "      <th>37</th>\n",
       "      <td>7.551020</td>\n",
       "      <td>18.877551</td>\n",
       "    </tr>\n",
       "    <tr>\n",
       "      <th>38</th>\n",
       "      <td>7.755102</td>\n",
       "      <td>19.387755</td>\n",
       "    </tr>\n",
       "    <tr>\n",
       "      <th>39</th>\n",
       "      <td>7.959184</td>\n",
       "      <td>19.897959</td>\n",
       "    </tr>\n",
       "    <tr>\n",
       "      <th>40</th>\n",
       "      <td>8.163265</td>\n",
       "      <td>20.408163</td>\n",
       "    </tr>\n",
       "    <tr>\n",
       "      <th>41</th>\n",
       "      <td>8.367347</td>\n",
       "      <td>20.918367</td>\n",
       "    </tr>\n",
       "    <tr>\n",
       "      <th>42</th>\n",
       "      <td>8.571429</td>\n",
       "      <td>21.428571</td>\n",
       "    </tr>\n",
       "    <tr>\n",
       "      <th>43</th>\n",
       "      <td>8.775510</td>\n",
       "      <td>21.938776</td>\n",
       "    </tr>\n",
       "    <tr>\n",
       "      <th>44</th>\n",
       "      <td>8.979592</td>\n",
       "      <td>22.448980</td>\n",
       "    </tr>\n",
       "    <tr>\n",
       "      <th>45</th>\n",
       "      <td>9.183673</td>\n",
       "      <td>22.959184</td>\n",
       "    </tr>\n",
       "    <tr>\n",
       "      <th>46</th>\n",
       "      <td>9.387755</td>\n",
       "      <td>23.469388</td>\n",
       "    </tr>\n",
       "    <tr>\n",
       "      <th>47</th>\n",
       "      <td>9.591837</td>\n",
       "      <td>23.979592</td>\n",
       "    </tr>\n",
       "    <tr>\n",
       "      <th>48</th>\n",
       "      <td>9.795918</td>\n",
       "      <td>24.489796</td>\n",
       "    </tr>\n",
       "    <tr>\n",
       "      <th>49</th>\n",
       "      <td>10.000000</td>\n",
       "      <td>25.000000</td>\n",
       "    </tr>\n",
       "  </tbody>\n",
       "</table>\n",
       "</div>"
      ],
      "text/plain": [
       "            t       x(t)\n",
       "0    0.000000   0.000000\n",
       "1    0.204082   0.510204\n",
       "2    0.408163   1.020408\n",
       "3    0.612245   1.530612\n",
       "4    0.816327   2.040816\n",
       "5    1.020408   2.551020\n",
       "6    1.224490   3.061224\n",
       "7    1.428571   3.571429\n",
       "8    1.632653   4.081633\n",
       "9    1.836735   4.591837\n",
       "10   2.040816   5.102041\n",
       "11   2.244898   5.612245\n",
       "12   2.448980   6.122449\n",
       "13   2.653061   6.632653\n",
       "14   2.857143   7.142857\n",
       "15   3.061224   7.653061\n",
       "16   3.265306   8.163265\n",
       "17   3.469388   8.673469\n",
       "18   3.673469   9.183673\n",
       "19   3.877551   9.693878\n",
       "20   4.081633  10.204082\n",
       "21   4.285714  10.714286\n",
       "22   4.489796  11.224490\n",
       "23   4.693878  11.734694\n",
       "24   4.897959  12.244898\n",
       "25   5.102041  12.755102\n",
       "26   5.306122  13.265306\n",
       "27   5.510204  13.775510\n",
       "28   5.714286  14.285714\n",
       "29   5.918367  14.795918\n",
       "30   6.122449  15.306122\n",
       "31   6.326531  15.816327\n",
       "32   6.530612  16.326531\n",
       "33   6.734694  16.836735\n",
       "34   6.938776  17.346939\n",
       "35   7.142857  17.857143\n",
       "36   7.346939  18.367347\n",
       "37   7.551020  18.877551\n",
       "38   7.755102  19.387755\n",
       "39   7.959184  19.897959\n",
       "40   8.163265  20.408163\n",
       "41   8.367347  20.918367\n",
       "42   8.571429  21.428571\n",
       "43   8.775510  21.938776\n",
       "44   8.979592  22.448980\n",
       "45   9.183673  22.959184\n",
       "46   9.387755  23.469388\n",
       "47   9.591837  23.979592\n",
       "48   9.795918  24.489796\n",
       "49  10.000000  25.000000"
      ]
     },
     "execution_count": 20,
     "metadata": {},
     "output_type": "execute_result"
    }
   ],
   "source": [
    "# Create a DataFrame\n",
    "\n",
    "df = pd.DataFrame({'t': t, 'x(t)': x(t)})\n",
    "df"
   ]
  },
  {
   "cell_type": "markdown",
   "id": "1144168d",
   "metadata": {},
   "source": [
    "### Exercise 2\n",
    "\n",
    "It turned out that I wasn't walking a constant speed towards getting my coffee, but I was accelerating (my speed increased over time). If my initial *speed = 0*, it still took me 10 seconds to travel from my seat to my coffee, but I was walking faster and faster.\n",
    "\n",
    "$V_o$ = initial speed = $0$\n",
    "\n",
    "t = time\n",
    "\n",
    "a = acceleration\n",
    "\n",
    "**distance** = $V_o * t + 0.5 * a * (t^2)$\n",
    "\n",
    "**speed** = $V_o + a * t$\n",
    "\n",
    "The first derivative of the speed function is acceleration. I realize that the speed function is closely related to the distance function.\n",
    "\n",
    "**Find the acceleration value and build the quadratic function  $(t ∈ [0,10])$. Also, create a graph and a table.**"
   ]
  },
  {
   "cell_type": "code",
   "execution_count": 27,
   "id": "ec1f8bd7",
   "metadata": {},
   "outputs": [
    {
     "data": {
      "text/plain": [
       "[<matplotlib.lines.Line2D at 0x7ca39cc1ebd0>]"
      ]
     },
     "execution_count": 27,
     "metadata": {},
     "output_type": "execute_result"
    },
    {
     "data": {
      "image/png": "[encoded data removed]",
      "text/plain": [
       "<Figure size 640x480 with 1 Axes>"
      ]
     },
     "metadata": {},
     "output_type": "display_data"
    }
   ],
   "source": [
    "import numpy as np\n",
    "import matplotlib.pyplot as plt\n",
    "\n",
    "\"\"\"\"\"   x(t)=v_0*t+(1/2)*(a)*(t**2)\n",
    "        v_0=0\n",
    "        x_f=250\n",
    "        t_f=10\n",
    "        x(t)=(1/2)*(a)*(t**2)\n",
    "        a=5\n",
    "\"\"\"\n",
    "# Define and plot the quadratic funtion\n",
    "def x(t): return (1/2)*(5)*(t**2)\n",
    "plt.plot(t, x(t))"
   ]
  },
  {
   "cell_type": "code",
   "execution_count": 29,
   "id": "ba5c497b",
   "metadata": {},
   "outputs": [
    {
     "name": "stdout",
     "output_type": "stream",
     "text": [
      "            t        x(t)\n",
      "0    0.000000    0.000000\n",
      "1    0.204082    0.104123\n",
      "2    0.408163    0.416493\n",
      "3    0.612245    0.937110\n",
      "4    0.816327    1.665973\n",
      "5    1.020408    2.603082\n",
      "6    1.224490    3.748438\n",
      "7    1.428571    5.102041\n",
      "8    1.632653    6.663890\n",
      "9    1.836735    8.433986\n",
      "10   2.040816   10.412328\n",
      "11   2.244898   12.598917\n",
      "12   2.448980   14.993753\n",
      "13   2.653061   17.596835\n",
      "14   2.857143   20.408163\n",
      "15   3.061224   23.427738\n",
      "16   3.265306   26.655560\n",
      "17   3.469388   30.091628\n",
      "18   3.673469   33.735943\n",
      "19   3.877551   37.588505\n",
      "20   4.081633   41.649313\n",
      "21   4.285714   45.918367\n",
      "22   4.489796   50.395668\n",
      "23   4.693878   55.081216\n",
      "24   4.897959   59.975010\n",
      "25   5.102041   65.077051\n",
      "26   5.306122   70.387339\n",
      "27   5.510204   75.905873\n",
      "28   5.714286   81.632653\n",
      "29   5.918367   87.567680\n",
      "30   6.122449   93.710954\n",
      "31   6.326531  100.062474\n",
      "32   6.530612  106.622241\n",
      "33   6.734694  113.390254\n",
      "34   6.938776  120.366514\n",
      "35   7.142857  127.551020\n",
      "36   7.346939  134.943773\n",
      "37   7.551020  142.544773\n",
      "38   7.755102  150.354019\n",
      "39   7.959184  158.371512\n",
      "40   8.163265  166.597251\n",
      "41   8.367347  175.031237\n",
      "42   8.571429  183.673469\n",
      "43   8.775510  192.523948\n",
      "44   8.979592  201.582674\n",
      "45   9.183673  210.849646\n",
      "46   9.387755  220.324865\n",
      "47   9.591837  230.008330\n",
      "48   9.795918  239.900042\n",
      "49  10.000000  250.000000\n"
     ]
    }
   ],
   "source": [
    "# Create a DataFrame\n",
    "df2 = pd.DataFrame({'t': t, 'x(t)': x(t)})\n",
    "print(df2)"
   ]
  },
  {
   "cell_type": "markdown",
   "id": "66d4cc18",
   "metadata": {},
   "source": [
    "Before exercise 3, we'll make a brief introduction to Gradient Descent algorithm, which will have a larger explanation in future modules of the bootcamp.\n",
    "\n",
    "Gradient Descent algorithm is the hero behind the family of deep learning algorithms. When an algorithm in this family runs, it tries to minimize the error between the training input and predicted output. This minimization is done by optimization algorithms, and gradient descent is the most popular one.\n",
    "\n",
    "Let's say you have these input & output pairs:\n",
    "\n",
    "```py\n",
    "# Input:\n",
    "[\n",
    " [1,2],\n",
    " [3,4]\n",
    "]\n",
    "\n",
    "# Output:\n",
    "[\n",
    " [50],\n",
    " [110]\n",
    "]\n",
    "```\n",
    "\n",
    "We can estimate that if we multiply the input values by [10, 20], we can have the output as shown above.\n",
    "\n",
    "```py\n",
    "1(10) + 2(20) = 50\n",
    "\n",
    "3(10) + 4(20) = 110\n",
    "```\n",
    "\n",
    "When a machine learning algorithm starts running, it assigns random values and makes a prediction. \n",
    "Let's say it assigned [1,2] values:\n",
    "\n",
    "```py\n",
    "1(1) + 2(2) = 5\n",
    "\n",
    "3(1) + 4(2) = 11\n",
    "```\n",
    "\n",
    "Once it has the predictions, it calculates the error: the difference between the real data and the predicted data. There are many ways to calculate the error, and they are called loss functions.\n",
    "\n",
    "Once we have this value, the optimization algorithm starts showing itself, and it sets new values which replace the initial random values. \n",
    "\n",
    "And, the loop continues until a condition is met. That condition can be to loop *n* times, or to loop until the error is smaller than a value."
   ]
  },
  {
   "cell_type": "markdown",
   "id": "85ef2f0b",
   "metadata": {},
   "source": [
    "It can be hard to understand **gradient descent** without understanding **gradient**. So, let's focus on what a gradient is. The gradient shows the direction of the greatest change of a scalar function. The gradient calculation is done with derivatives, so let's start with a simple example. To calculate the gradient, we just need to remember some linear algebra calculations from high school because we need to calculate derivatives.\n",
    "\n",
    "Let's say we want to find the minimum point of $f(x) = x^2$. The derivative of that function is $df(x)=2x$. \n",
    "\n",
    "The gradient of $f(x)$ at point $x=-10$\n",
    "\n",
    "is \n",
    "\n",
    "$df(-10)=-20$.\n",
    "\n",
    "The gradient of $f(x)$ at point $x=1$\n",
    "\n",
    "is \n",
    "\n",
    "$df(1)=2$.\n",
    "\n",
    "Now let’s visualize $f(x)$ and those $x=-10$ and $x=1$ points."
   ]
  },
  {
   "cell_type": "code",
   "execution_count": 1,
   "id": "4ff7e11a",
   "metadata": {},
   "outputs": [],
   "source": [
    "import numpy as np\n",
    "import seaborn as sns\n",
    "\n",
    "def f(x):\n",
    "    return x**2\n",
    "\n",
    "def df(x):\n",
    "    return 2*x\n",
    "\n",
    "def visualize(f, x=None):\n",
    "    \n",
    "    xArray = np.linspace(-10, 10, 100) \n",
    "    yArray = f(xArray)\n",
    "    sns.lineplot(x=xArray, y=yArray)\n",
    "    \n",
    "    if x is not None:\n",
    "        assert type(x) in [np.ndarray, list] # x should be numpy array or list\n",
    "        if type(x) is list: # if it is a list, convert to numpy array\n",
    "            x = np.array(x)\n",
    "\n",
    "            \n",
    "        y = f(x)\n",
    "        sns.scatterplot(x=x, y=y, color='red')"
   ]
  },
  {
   "cell_type": "code",
   "execution_count": 2,
   "id": "633a54fd",
   "metadata": {},
   "outputs": [
    {
     "data": {
      "image/png": "[encoded data removed]",
      "text/plain": [
       "<Figure size 640x480 with 1 Axes>"
      ]
     },
     "metadata": {},
     "output_type": "display_data"
    }
   ],
   "source": [
    "visualize(f, x=[-10, 1])"
   ]
  },
  {
   "cell_type": "markdown",
   "id": "9c187ad7",
   "metadata": {},
   "source": [
    "The red dot at x=-10 does not know the surface it stands on, and it only knows the coordinates of where it stands and the gradient of itself, which is -20. And the other red dot at x=1 does not know the surface it stands on; it only knows the coordinates of where it stands and the gradient of itself, which is 2.\n",
    "\n",
    "By having only this information: we can say that the red dot at x=-10 should make a bigger jump than x=1 because it has a bigger absolute gradient value. The sign shows the direction. Minus (-) shows that the red dot at x=-10 should move to the right and the other one should move to the left.\n",
    "\n",
    "In summary, the red dot at x=-10 (gradient: -20) should make a bigger jump to the right, and the red dot at x=1 (gradient: 2) should make a smaller jump to the left. \n",
    "\n",
    "We know that the jump length should be proportional to the gradient, but what is that value exactly? We don’t know. So, let’s just say that red points should move with the length of *alpha * gradient*, where alpha is just a parameter.\n",
    "\n",
    "We can say that the new location of the red dot should be calculated with the following formula:\n",
    "\n",
    "x = x - gradient * alpha"
   ]
  },
  {
   "cell_type": "markdown",
   "id": "0a7f5c3f",
   "metadata": {},
   "source": [
    "Now let's implement this with **NumPy**. Let's start with visualizing the $f(x)=x^2$ function and the $x=-10$ point."
   ]
  },
  {
   "cell_type": "code",
   "execution_count": 24,
   "id": "e26dbdf0",
   "metadata": {},
   "outputs": [
    {
     "data": {
      "image/png": "[encoded data removed]",
      "text/plain": [
       "<Figure size 432x288 with 1 Axes>"
      ]
     },
     "metadata": {
      "needs_background": "light"
     },
     "output_type": "display_data"
    }
   ],
   "source": [
    "visualize(f, x=[-10])"
   ]
  },
  {
   "cell_type": "markdown",
   "id": "6e752e19",
   "metadata": {},
   "source": [
    "The following code implements the whole logic explained before:"
   ]
  },
  {
   "cell_type": "code",
   "execution_count": 3,
   "id": "2bdd54f1",
   "metadata": {},
   "outputs": [],
   "source": [
    "def gradient_descent(x, nsteps=1):\n",
    "    \n",
    "    \n",
    "    # collectXs is an array to store how x changed in each iteration, so we can visualize it later\n",
    "    \n",
    "    collectXs = [x]\n",
    "    \n",
    "    # learning_rate is the value that we mentioned as alpha in the previous section\n",
    "    \n",
    "    learning_rate = 1e-01\n",
    "    \n",
    "    for _ in range(nsteps):\n",
    "        \n",
    "        # The following one line does the real magic\n",
    "        # The next value of x is calculated by subtracting the gradient * learning_rate by itself\n",
    "        # The intuition behind this line is in the previous section\n",
    "        \n",
    "        x -= df(x) * learning_rate \n",
    "        collectXs.append(x)\n",
    "        \n",
    "    # We return a tuple that contains\n",
    "    # x -> recent x after nsteps \n",
    "    # collectXs -> all the x values that were calculated so far\n",
    "    \n",
    "    return x, collectXs"
   ]
  },
  {
   "cell_type": "markdown",
   "id": "aea74a65",
   "metadata": {},
   "source": [
    "Before running a gradient descent with 1000 steps, let's just run it twice, one step at a time, to see how x evolves. \n",
    "We start with x=-10, and it evolves to x=-8. We know that when x=0 that is the **minimum point**, so yes, it is evolving in the correct direction."
   ]
  },
  {
   "cell_type": "code",
   "execution_count": 26,
   "id": "0350981e",
   "metadata": {},
   "outputs": [
    {
     "name": "stdout",
     "output_type": "stream",
     "text": [
      "-8.0\n"
     ]
    }
   ],
   "source": [
    "x=-10\n",
    "x, collectedXs = gradient_descent(x, nsteps=1)\n",
    "print(x)"
   ]
  },
  {
   "cell_type": "code",
   "execution_count": 27,
   "id": "f8e01e2d",
   "metadata": {},
   "outputs": [
    {
     "name": "stdout",
     "output_type": "stream",
     "text": [
      "-6.4\n"
     ]
    }
   ],
   "source": [
    "# The next step will start at x=-8. Let's run a gradient for 1 step\n",
    "\n",
    "x, collectedXs = gradient_descent(x, nsteps=1)\n",
    "print(x)"
   ]
  },
  {
   "cell_type": "markdown",
   "id": "93f13b32",
   "metadata": {},
   "source": [
    "It goes to x=-6.4. Excellent. Now let's run it 1000 times"
   ]
  },
  {
   "cell_type": "code",
   "execution_count": 28,
   "id": "b699d1fb",
   "metadata": {},
   "outputs": [
    {
     "name": "stdout",
     "output_type": "stream",
     "text": [
      "-7.873484301831169e-97\n"
     ]
    }
   ],
   "source": [
    "x, collectedXs = gradient_descent(x, nsteps=1000)\n",
    "print(x)"
   ]
  },
  {
   "cell_type": "code",
   "execution_count": 29,
   "id": "0b76ee22",
   "metadata": {},
   "outputs": [
    {
     "data": {
      "image/png": "[encoded data removed]",
      "text/plain": [
       "<Figure size 432x288 with 1 Axes>"
      ]
     },
     "metadata": {
      "needs_background": "light"
     },
     "output_type": "display_data"
    }
   ],
   "source": [
    "visualize(f, x=collectedXs)"
   ]
  },
  {
   "cell_type": "markdown",
   "id": "d00d2fbb",
   "metadata": {},
   "source": [
    "### Exercise 3\n",
    "\n",
    "When I arrive to the coffee machine, I hear my colleague talking about the per-unit costs of producing 'product B' for the company. As the company produces more units, the per-unit costs continue to decrease until a point where they start to increase.\n",
    "\n",
    "To optimize the per-unit production cost at its minimum to optimize efficiency, the company would need to find the number of units to be produced where the per-unit production costs begin to change from decreasing to increasing.\n",
    "\n",
    "**Build a quadratic function $f(x)=0.1(x)^2−9x +4500$ on $x∈[0,100]$ to create the per-unit cost function, and make a conclusion.**"
   ]
  },
  {
   "cell_type": "code",
   "execution_count": 4,
   "id": "7c67d8b7",
   "metadata": {},
   "outputs": [
    {
     "data": {
      "text/plain": [
       "[<matplotlib.lines.Line2D at 0x70e78f3b8b50>]"
      ]
     },
     "execution_count": 4,
     "metadata": {},
     "output_type": "execute_result"
    },
    {
     "data": {
      "image/png": "[encoded data removed]",
      "text/plain": [
       "<Figure size 640x480 with 1 Axes>"
      ]
     },
     "metadata": {},
     "output_type": "display_data"
    }
   ],
   "source": [
    "# import libraries\n",
    "\n",
    "import matplotlib.pyplot as plt\n",
    "import numpy as np\n",
    "import pandas as pd\n",
    "\n",
    "# Define and plot the function\n",
    "x = np.linspace(0,100)\n",
    "def f(x): return ((0.1)*(x**2))-((9)*(x))+(4500)\n",
    "\n",
    "plt.plot(x, f(x))\n"
   ]
  },
  {
   "cell_type": "markdown",
   "id": "fbe54895",
   "metadata": {},
   "source": [
    "We saw with Gradient Descent how the red dot navigates in an environment it does not know about. It only knows the coordinates of where it is and its gradient. The red dot could find the minimum point by using only this knowledge and the gradient descent algorithm.\n",
    "\n",
    "**Optional:**\n",
    "\n",
    "Implement all the previous steps to create a gradient descent algorithm to see how the per-unit cost evolves, with a starting point of 0 units of production."
   ]
  },
  {
   "cell_type": "markdown",
   "id": "aabad82c",
   "metadata": {},
   "source": [
    "## Linear Algebra"
   ]
  },
  {
   "cell_type": "markdown",
   "id": "6753636d",
   "metadata": {},
   "source": [
    "### Exercise 1: Sum of two matrices\n",
    "\n",
    "Suppose we have two matrices A and B.\n",
    "\n",
    "```py\n",
    "A = [[1,2],[3,4]]\n",
    "B = [[4,5],[6,7]]\n",
    "\n",
    "then we get\n",
    "A+B = [[5,7],[9,11]]\n",
    "A-B = [[-3,-3],[-3,-3]]\n",
    "```\n",
    "\n",
    "Make the sum of two matrices using Python with NumPy"
   ]
  },
  {
   "cell_type": "code",
   "execution_count": null,
   "id": "9e200c32",
   "metadata": {},
   "outputs": [],
   "source": [
    "# import numpy as np\n",
    "\n",
    " \n",
    " \n",
    "# Creating first matrix\n",
    "\n",
    " \n",
    "# Creating second matrix\n",
    "\n",
    " \n",
    "# Print elements\n",
    "\n",
    " \n",
    "# Adding both matrices\n"
   ]
  },
  {
   "cell_type": "markdown",
   "id": "93bfb6cc",
   "metadata": {},
   "source": [
    "### Exercise 2: Sum of two lists\n",
    "\n",
    "There will be many situations in which we'll have to find an index-wise summation of two different lists. This can have possible applications in day-to-day programming. In this exercise, we will solve the same problem in various ways in which this task can be performed.\n",
    "\n",
    "We have the following two lists:\n",
    "\n",
    "```py\n",
    "list1 = [2, 5, 4, 7, 3]\n",
    "list2 = [1, 4, 6, 9, 10]\n",
    "```\n",
    "\n",
    "Now let's use Python code to demonstrate addition of two lists."
   ]
  },
  {
   "cell_type": "code",
   "execution_count": null,
   "id": "867b70fc",
   "metadata": {},
   "outputs": [],
   "source": [
    "# Naive method\n",
    "\n",
    "# Initializing lists\n",
    "list1 = [2, 5, 4, 7, 3]\n",
    "list2 = [1, 4, 6, 9, 10]\n",
    " \n",
    "# Printing original lists\n",
    "print (\"Original list 1 : \" + str(list1))\n",
    "print (\"Original list 2 : \" + str(list2))\n",
    " \n",
    "# Using naive method to add two lists \n",
    "res_list = []\n",
    "for i in range(0, len(list1)):\n",
    "    res_list.append(list1[i] + list2[i])\n",
    " \n",
    "# Printing resulting list \n",
    "print (\"Resulting list is : \" + str(res_list))"
   ]
  },
  {
   "cell_type": "markdown",
   "id": "7a063d7f",
   "metadata": {},
   "source": [
    "Now use the following three different methods to make the same calculation: sum of two lists"
   ]
  },
  {
   "cell_type": "code",
   "execution_count": null,
   "id": "681930a3",
   "metadata": {},
   "outputs": [],
   "source": [
    "# Use list comprehension to perform addition of the two lists:\n",
    "\n",
    "\n",
    "# Initializing lists\n",
    "\n",
    " \n",
    "# Printing original lists\n",
    "\n",
    " \n",
    "# Using list comprehension to add two lists\n",
    "\n",
    " \n",
    "# Printing resulting list \n"
   ]
  },
  {
   "cell_type": "code",
   "execution_count": null,
   "id": "a3a8a425",
   "metadata": {},
   "outputs": [],
   "source": [
    "# Use map() + add():\n",
    "\n",
    "\n",
    "# Initializing lists\n",
    "\n",
    " \n",
    "# Printing original lists\n",
    "\n",
    " \n",
    "# Using map() + add() to add two lists\n",
    "\n",
    " \n",
    "# Printing resulting list "
   ]
  },
  {
   "cell_type": "code",
   "execution_count": null,
   "id": "1708d7ee",
   "metadata": {},
   "outputs": [],
   "source": [
    "# Use zip() + sum():\n",
    "\n",
    "\n",
    "# Initializing lists\n",
    "\n",
    " \n",
    "# Printing original lists\n",
    "\n",
    " \n",
    "# Using zip() + sum() to add two lists\n",
    "\n",
    " \n",
    "# Printing resulting list "
   ]
  },
  {
   "cell_type": "markdown",
   "id": "1aef1bd2",
   "metadata": {},
   "source": [
    "### Exercise 3: Dot multiplication\n",
    "\n",
    "We have two matrices:\n",
    "\n",
    "```py\n",
    "matrix1 = [[1,7,3],\n",
    " [4,5,2],\n",
    " [3,6,1]]\n",
    "matrix2 = [[5,4,1],\n",
    " [1,2,3],\n",
    " [4,5,2]]\n",
    "```\n",
    "\n",
    "A simple technique but expensive method for larger input datasets is using *for loops*. In this exercise, we will first use nested *for loops* to iterate through each row and column of the matrices, and then we will perform the same multiplication using NumPy."
   ]
  },
  {
   "cell_type": "code",
   "execution_count": null,
   "id": "840e7d0e",
   "metadata": {},
   "outputs": [],
   "source": [
    "# Using a for loop input two matrices of size n x m\n",
    "matrix1 = [[1,7,3],\n",
    " [4,5,2],\n",
    " [3,6,1]]\n",
    "matrix2 = [[5,4,1],\n",
    " [1,2,3],\n",
    " [4,5,2]]\n",
    " \n",
    "res = [[0 for x in range(3)] for y in range(3)]\n",
    " \n",
    "# Explicit for loops\n",
    "for i in range(len(matrix1)):\n",
    "    for j in range(len(matrix2[0])):\n",
    "        for k in range(len(matrix2)):\n",
    " \n",
    "            # Resulting matrix\n",
    "            res[i][j] += matrix1[i][k] * matrix2[k][j]\n",
    " \n",
    "print(res)"
   ]
  },
  {
   "cell_type": "code",
   "execution_count": null,
   "id": "db6c3355",
   "metadata": {},
   "outputs": [],
   "source": [
    "# Import libraries\n",
    "\n",
    " \n",
    "# Input two matrices\n",
    "\n",
    " \n",
    "# This will return dot product\n",
    "\n",
    " \n",
    "# Print resulting matrix\n"
   ]
  },
  {
   "cell_type": "markdown",
   "id": "785f6c30",
   "metadata": {},
   "source": [
    "Source:\n",
    "\n",
    "https://www.youtube.com/channel/UCXq-PLvYAX-EufF5RAPihVg\n",
    "\n",
    "https://www.geeksforgeeks.org/\n",
    "\n",
    "https://medium.com/@seehleung/basic-calculus-explained-for-machine-learning-c7f642e7ced3\n",
    "\n",
    "https://blog.demir.io/understanding-gradient-descent-266fc3dcf02f"
   ]
  }
 ],
 "metadata": {
  "kernelspec": {
   "display_name": "Python 3",
   "language": "python",
   "name": "python3"
  },
  "language_info": {
   "codemirror_mode": {
    "name": "ipython",
    "version": 3
   },
   "file_extension": ".py",
   "mimetype": "text/x-python",
   "name": "python",
   "nbconvert_exporter": "python",
   "pygments_lexer": "ipython3",
   "version": "3.11.4"
  }
 },
 "nbformat": 4,
 "nbformat_minor": 5
}
